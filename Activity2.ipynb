{
 "cells": [
  {
   "cell_type": "markdown",
   "id": "9c5b5cac-6dec-4a32-9fec-84cb9058c20e",
   "metadata": {},
   "source": [
    "# Quantum Forge Activity 2\n",
    "## This Notebook is for me to learn the basics of Jupyter notebooks and Python\n",
    " I am going to learn how to write Python code.\n",
    " \n",
    " Michael Creager"
   ]
  },
  {
   "cell_type": "code",
   "execution_count": 1,
   "id": "ec3448ab-a210-4868-8de7-86369ce84e67",
   "metadata": {},
   "outputs": [
    {
     "name": "stdout",
     "output_type": "stream",
     "text": [
      "hello world\n"
     ]
    }
   ],
   "source": [
    "my_first_variable = \"hello world\" \n",
    "\n",
    "print(my_first_variable)"
   ]
  },
  {
   "cell_type": "code",
   "execution_count": 78,
   "id": "72f8229f-dd19-4271-9804-b5259ca01307",
   "metadata": {},
   "outputs": [
    {
     "name": "stdout",
     "output_type": "stream",
     "text": [
      "6.283185307179586\n"
     ]
    }
   ],
   "source": [
    "import numpy as np\n",
    "\n",
    "tau = 2*np.pi\n",
    "print(tau)\n",
    "tau_str = \"\\u03C4\""
   ]
  },
  {
   "cell_type": "code",
   "execution_count": 6,
   "id": "de953770-968d-41cb-9930-3e5f5a43fc05",
   "metadata": {},
   "outputs": [
    {
     "name": "stdout",
     "output_type": "stream",
     "text": [
      "τ = 6.28\n"
     ]
    }
   ],
   "source": [
    "string1 = \"\\u03C4 = {}\".format(tau)\n",
    "string2 = \"{}={}.format(tau_str,tau)\"\n",
    "string3 = \"{name}={value}\".format(name=tau_str,value=tau)\n",
    "string4 = \"{name} is a Greek letter pronounced 'tau' and it represents a full revoltion around \" \\\n",
    "\"the circle; in radians {name} = {value}\".format(name=tau_str, value=tau)\n",
    "print(f\"{tau_str} = {tau:.2f}\")"
   ]
  },
  {
   "cell_type": "code",
   "execution_count": 7,
   "id": "e749bb7d-e024-4c3d-ae44-0ed230e9e7f4",
   "metadata": {},
   "outputs": [
    {
     "data": {
      "text/plain": [
       "\u001b[1;31mDocstring:\u001b[0m\n",
       "print(value, ..., sep=' ', end='\\n', file=sys.stdout, flush=False)\n",
       "\n",
       "Prints the values to a stream, or to sys.stdout by default.\n",
       "Optional keyword arguments:\n",
       "file:  a file-like object (stream); defaults to the current sys.stdout.\n",
       "sep:   string inserted between values, default a space.\n",
       "end:   string appended after the last value, default a newline.\n",
       "flush: whether to forcibly flush the stream.\n",
       "\u001b[1;31mType:\u001b[0m      builtin_function_or_method\n"
      ]
     },
     "metadata": {},
     "output_type": "display_data"
    }
   ],
   "source": [
    "print?"
   ]
  },
  {
   "cell_type": "code",
   "execution_count": 9,
   "id": "cfc54efd-4992-45e9-b3f9-b23121ab980d",
   "metadata": {},
   "outputs": [
    {
     "name": "stdout",
     "output_type": "stream",
     "text": [
      "['this', 'is', 'my', 'first', 'list']\n"
     ]
    }
   ],
   "source": [
    "my_first_list = [\"this\",\"is\",\"my\",\"first\",\"list\"]\n",
    "print(my_first_list)"
   ]
  },
  {
   "cell_type": "code",
   "execution_count": 11,
   "id": "06696678-5b13-4ab1-aff7-ae13cdc8bad0",
   "metadata": {},
   "outputs": [
    {
     "name": "stdout",
     "output_type": "stream",
     "text": [
      "[0, 0, 0, 0, 0, 0, 0, 0, 0, 0]\n",
      "[0, 0, 55, 0, 0, 0, 0, 12, 0, 0]\n"
     ]
    }
   ],
   "source": [
    "list_to_fill = [0]*10\n",
    "print(list_to_fill)\n",
    "list_to_fill[2] = 55\n",
    "list_to_fill[7] = 12\n",
    "print(list_to_fill)"
   ]
  },
  {
   "cell_type": "code",
   "execution_count": 15,
   "id": "728815b5-169e-4d22-a71c-7ae67505d833",
   "metadata": {},
   "outputs": [
    {
     "name": "stdout",
     "output_type": "stream",
     "text": [
      "the\n",
      "brown\n",
      "dog\n",
      "jumped\n",
      "over\n",
      "the\n",
      "white\n",
      "fence\n"
     ]
    }
   ],
   "source": [
    "list_to_loop_over = 'the brown dog jumped over the white fence'.split(' ')\n",
    "for list_element in list_to_loop_over:\n",
    "    print(list_element)"
   ]
  },
  {
   "cell_type": "code",
   "execution_count": 20,
   "id": "ef78851b-77b3-4a91-bafa-78e40fa409bb",
   "metadata": {},
   "outputs": [
    {
     "name": "stdout",
     "output_type": "stream",
     "text": [
      "1::a\n",
      "2::b\n",
      "3::c\n",
      "<zip object at 0x000002656B7D2600>\n",
      "((1, 'a'), (2, 'b'), (3, 'c'))\n"
     ]
    }
   ],
   "source": [
    "list1 = [1,2,3]\n",
    "list2 = ['a','b','c'] \n",
    "for el1, el2 in zip(list1,list2):\n",
    "    print(f'{el1}::{el2}')\n",
    "    \n",
    "print(zip(list1,list2))\n",
    "print(tuple(zip(list1,list2)))"
   ]
  },
  {
   "cell_type": "code",
   "execution_count": 17,
   "id": "03ec1708-a4bd-4dff-9a2e-bc0512f469c4",
   "metadata": {},
   "outputs": [
    {
     "name": "stdout",
     "output_type": "stream",
     "text": [
      "1::a\n",
      "1::b\n",
      "1::c\n",
      "2::a\n",
      "2::b\n",
      "2::c\n",
      "3::a\n",
      "3::b\n",
      "3::c\n"
     ]
    }
   ],
   "source": [
    "for el1 in list1:\n",
    "    for el2 in list2:\n",
    "        print(f'{el1}::{el2}')\n",
    "    "
   ]
  },
  {
   "cell_type": "code",
   "execution_count": 22,
   "id": "9e5d14ca-fae5-49e5-84cd-1f95d167a4bd",
   "metadata": {},
   "outputs": [
    {
     "name": "stdout",
     "output_type": "stream",
     "text": [
      "(2, 3)\n"
     ]
    }
   ],
   "source": [
    "my_array = np.array([[1,2,3],[2,3,1]])\n",
    "print(my_array.shape)"
   ]
  },
  {
   "cell_type": "code",
   "execution_count": 32,
   "id": "bba5f66d-e3bf-4e8f-b83e-8cb703afdfa9",
   "metadata": {},
   "outputs": [
    {
     "name": "stdout",
     "output_type": "stream",
     "text": [
      "[ 0  1  4  9 16] [[ 0  4  8 12 16]\n",
      " [ 0  2  4  6  8]\n",
      " [ 0  3  6  9 12]\n",
      " [ 0  1  2  3  4]] [[16]\n",
      " [ 4]\n",
      " [ 9]\n",
      " [ 1]] [0 2 4 6 8] [[4 5 6 7 8]\n",
      " [2 3 4 5 6]\n",
      " [3 4 5 6 7]\n",
      " [1 2 3 4 5]] [[8]\n",
      " [4]\n",
      " [6]\n",
      " [2]]\n"
     ]
    }
   ],
   "source": [
    "x = np.arange(5)\n",
    "y = np.array([[4],[2],[3],[1]])\n",
    "print(x*x,x*y,y*y,x+x,x+y,y+y)"
   ]
  },
  {
   "cell_type": "code",
   "execution_count": 34,
   "id": "f5b5e47e-7d6f-4e21-9c79-f1bc5f40140c",
   "metadata": {},
   "outputs": [
    {
     "data": {
      "text/plain": [
       "33"
      ]
     },
     "execution_count": 34,
     "metadata": {},
     "output_type": "execute_result"
    }
   ],
   "source": [
    "x = np.array([1,3,4])\n",
    "y = np.array([2,9,1])\n",
    "sum(x*y)"
   ]
  },
  {
   "cell_type": "code",
   "execution_count": 40,
   "id": "52caf537-7407-4604-bcc6-fa3359d060cc",
   "metadata": {},
   "outputs": [
    {
     "name": "stdout",
     "output_type": "stream",
     "text": [
      "[[1 2]\n",
      " [3 4]] [[4 3]\n",
      " [2 1]]\n",
      "[[ 8  5]\n",
      " [20 13]]\n"
     ]
    }
   ],
   "source": [
    "a = np.array([[1,2],[3,4]])\n",
    "b = np.array([[4,3],[2,1]])\n",
    "print(a,b)\n",
    "c = np.dot(a,b)\n",
    "print(c)"
   ]
  },
  {
   "cell_type": "markdown",
   "id": "f083a92f-aa73-4a96-9127-7b81ba1cc840",
   "metadata": {},
   "source": [
    "# Exercises\n",
    "## Question 1"
   ]
  },
  {
   "cell_type": "markdown",
   "id": "2c79b62b-ae5e-44d0-80d7-62254ffe1711",
   "metadata": {},
   "source": [
    "### A"
   ]
  },
  {
   "cell_type": "code",
   "execution_count": 49,
   "id": "428913e3-5ea8-4c58-98aa-aaa1955d262d",
   "metadata": {},
   "outputs": [
    {
     "name": "stdout",
     "output_type": "stream",
     "text": [
      "3.141592653589793\n",
      "1.5707963267948966\n",
      "1.0471975511965976\n",
      "0.5235987755982988\n"
     ]
    }
   ],
   "source": [
    "t = [1,2,3,6]\n",
    "pi = np.pi\n",
    "\n",
    "for ii in [1,2,3,6]:\n",
    "    print(pi/ii)\n",
    "\n",
    "\n",
    "\n"
   ]
  },
  {
   "cell_type": "markdown",
   "id": "8244221b-a289-4468-af7c-44d696f41f84",
   "metadata": {},
   "source": [
    "### B"
   ]
  },
  {
   "cell_type": "markdown",
   "id": "14c308b1-daca-4ab7-abb2-528bff811633",
   "metadata": {},
   "source": [
    "I didn't really have time to figure this out "
   ]
  },
  {
   "cell_type": "markdown",
   "id": "8c2497ac-dda3-4644-81ee-0ebab1ab421c",
   "metadata": {},
   "source": [
    "### C"
   ]
  },
  {
   "cell_type": "code",
   "execution_count": 61,
   "id": "aa4f96f1-67d3-4f7c-9e8d-828fd41b7595",
   "metadata": {},
   "outputs": [
    {
     "name": "stdout",
     "output_type": "stream",
     "text": [
      "-20\n",
      "-19\n",
      "-18\n",
      "-17\n",
      "-16\n",
      "-15\n",
      "-14\n",
      "-13\n",
      "-12\n",
      "-11\n",
      "-10\n"
     ]
    }
   ],
   "source": [
    "k = -21\n",
    "f = [1]*11\n",
    "for jj in f:\n",
    "    k = k +1\n",
    "    print(k)"
   ]
  },
  {
   "cell_type": "markdown",
   "id": "9581ac43-f4e2-40b6-a698-bac1c97f013d",
   "metadata": {},
   "source": [
    "### D"
   ]
  },
  {
   "cell_type": "code",
   "execution_count": 68,
   "id": "87e202b6-cab7-45a5-8446-4f8e49b98e86",
   "metadata": {},
   "outputs": [
    {
     "name": "stdout",
     "output_type": "stream",
     "text": [
      "0\n",
      "1\n",
      "1\n",
      "2\n",
      "3\n",
      "5\n",
      "8\n",
      "13\n",
      "21\n",
      "34\n"
     ]
    }
   ],
   "source": [
    "d = [0,1,1,2,3,5,8,13,21,34]\n",
    "f = [0,1,2,3,4,5,6,7,8,9]\n",
    "for kk in f:\n",
    "    print(d[kk])\n",
    "        "
   ]
  },
  {
   "cell_type": "markdown",
   "id": "2cedbb0b-811a-4fa5-976f-10d8fee6778a",
   "metadata": {},
   "source": [
    "## Question 2"
   ]
  },
  {
   "cell_type": "code",
   "execution_count": 47,
   "id": "ac3d44a2-b95d-4ad7-b511-e44e787a9b8e",
   "metadata": {},
   "outputs": [
    {
     "name": "stdout",
     "output_type": "stream",
     "text": [
      "10\n"
     ]
    }
   ],
   "source": [
    "num=4256687749\n",
    "z = str(num)\n",
    "print(len(z))"
   ]
  },
  {
   "cell_type": "code",
   "execution_count": null,
   "id": "30c5626c-9902-4228-8f79-13a130b8af48",
   "metadata": {},
   "outputs": [],
   "source": []
  }
 ],
 "metadata": {
  "kernelspec": {
   "display_name": "Python 3 (ipykernel)",
   "language": "python",
   "name": "python3"
  },
  "language_info": {
   "codemirror_mode": {
    "name": "ipython",
    "version": 3
   },
   "file_extension": ".py",
   "mimetype": "text/x-python",
   "name": "python",
   "nbconvert_exporter": "python",
   "pygments_lexer": "ipython3",
   "version": "3.9.12"
  }
 },
 "nbformat": 4,
 "nbformat_minor": 5
}
